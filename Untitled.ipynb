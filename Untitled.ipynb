{
 "cells": [
  {
   "cell_type": "code",
   "execution_count": 10,
   "metadata": {
    "collapsed": false
   },
   "outputs": [
    {
     "name": "stderr",
     "output_type": "stream",
     "text": [
      "2017-04-23T14:23:41.525-0300\tconnected to: localhost\n",
      "2017-04-23T14:23:41.575-0300\tnum failures: 9\n",
      "2017-04-23T14:23:41.576-0300\terror inserting documents: multiple errors in bulk operation:\n",
      "  - E11000 duplicate key error collection: pages_analysis.users index: _id_ dup key: { : ObjectId('58fbe7efe159f8545f4afd71') }\n",
      "  - E11000 duplicate key error collection: pages_analysis.users index: _id_ dup key: { : ObjectId('58fbe7d8e159f8545f4afd6e') }\n",
      "  - E11000 duplicate key error collection: pages_analysis.users index: _id_ dup key: { : ObjectId('58fbe7eee159f8545f4afd70') }\n",
      "  - E11000 duplicate key error collection: pages_analysis.users index: _id_ dup key: { : ObjectId('58fbe7cfe159f8545f4afd6d') }\n",
      "  - E11000 duplicate key error collection: pages_analysis.users index: _id_ dup key: { : ObjectId('58fbe7eae159f8545f4afd6f') }\n",
      "  - E11000 duplicate key error collection: pages_analysis.users index: _id_ dup key: { : ObjectId('58fbe805e159f8545f4afd72') }\n",
      "  - E11000 duplicate key error collection: pages_analysis.users index: _id_ dup key: { : ObjectId('58fc9ec25ac8282148e4f532') }\n",
      "  - E11000 duplicate key error collection: pages_analysis.users index: _id_ dup key: { : ObjectId('58fc9ed95ac8282148e4f533') }\n",
      "  - E11000 duplicate key error collection: pages_analysis.users index: _id_ dup key: { : ObjectId('58fc9edd5ac8282148e4f534') }\n",
      "\n",
      "2017-04-23T14:23:41.576-0300\timported 0 documents\n"
     ]
    }
   ],
   "source": [
    "# Retrieves database\n",
    "from pathlib import Path\n",
    "\n",
    "backup = Path('res/bd.json')\n",
    "if backup.is_file():\n",
    "    !mongoimport -d pages_analysis -c users --file res/bd.json"
   ]
  },
  {
   "cell_type": "code",
   "execution_count": 11,
   "metadata": {
    "collapsed": false
   },
   "outputs": [
    {
     "name": "stdout",
     "output_type": "stream",
     "text": [
      "9\n"
     ]
    }
   ],
   "source": [
    "from src.processors.friends_processor import FriendsProcessor\n",
    "from src.database import connect_db\n",
    "from src.database.user_dao import UserDAO\n",
    "\n",
    "db = connect_db.connect()\n",
    "udao = UserDAO(db)\n",
    "\n",
    "#fp = FriendsProcessor(db)\n",
    "#fp.processFriends()\n",
    "\n",
    "print(len(udao.fetchall()))\n",
    "#for u in udao.fetchall():\n",
    "#    print(u.initials)\n",
    "#    print(u.user_as_dict())"
   ]
  },
  {
   "cell_type": "code",
   "execution_count": 3,
   "metadata": {
    "collapsed": false
   },
   "outputs": [
    {
     "name": "stderr",
     "output_type": "stream",
     "text": [
      "2017-04-23T14:16:21.428-0300\tconnected to: localhost\n",
      "2017-04-23T14:16:21.529-0300\texported 9 records\n"
     ]
    }
   ],
   "source": [
    "# Saves database\n",
    "!mongoexport -d pages_analysis -c users -o res/bd.json"
   ]
  },
  {
   "cell_type": "code",
   "execution_count": 12,
   "metadata": {
    "collapsed": false
   },
   "outputs": [],
   "source": [
    "from src.processors.get_categories import GetCategories\n",
    "\n",
    "f = open('categories.txt', 'w')\n",
    "f.write(GetCategories.get(udao))\n",
    "f.close()"
   ]
  },
  {
   "cell_type": "code",
   "execution_count": 20,
   "metadata": {
    "collapsed": false
   },
   "outputs": [],
   "source": [
    "from os import path\n",
    "from PIL import Image\n",
    "import numpy as np\n",
    "import matplotlib.pyplot as plt\n",
    "\n",
    "from wordcloud import WordCloud, STOPWORDS\n"
   ]
  },
  {
   "cell_type": "code",
   "execution_count": 38,
   "metadata": {
    "collapsed": false
   },
   "outputs": [
    {
     "data": {
      "image/png": "[encoded data removed]",
      "text/plain": [
       "<matplotlib.figure.Figure at 0x1f2fc8a85c0>"
      ]
     },
     "metadata": {},
     "output_type": "display_data"
    },
    {
     "data": {
      "image/png": "[encoded data removed]",
      "text/plain": [
       "<matplotlib.figure.Figure at 0x1f2fbcc2048>"
      ]
     },
     "metadata": {},
     "output_type": "display_data"
    }
   ],
   "source": [
    "#!/usr/bin/env python\n",
    "\"\"\"\n",
    "Masked wordcloud\n",
    "================\n",
    "Using a mask you can generate wordclouds in arbitrary shapes.\n",
    "\"\"\"\n",
    "img = \"facebook-letter.png\"\n",
    "output = \"teste2.png\"\n",
    "d = ''\n",
    "\n",
    "# Read the whole text.\n",
    "text = open(path.join(d, 'categories.txt')).read()\n",
    "\n",
    "# read the mask image\n",
    "# taken from\n",
    "# http://www.stencilry.org/stencils/movies/alice%20in%20wonderland/255fk.jpg\n",
    "alice_mask = np.array(Image.open(path.join(d, img)))\n",
    "\n",
    "stopwords = set(STOPWORDS)\n",
    "stopwords.add(\"said\")\n",
    "\n",
    "wc = WordCloud(background_color=\"white\", max_words=2000, mask=alice_mask,\n",
    "               stopwords=stopwords)\n",
    "# generate word cloud\n",
    "#wordcloud = WordCloud().generate(GetCategories.get(udao))\n",
    "wc.generate(text)\n",
    "#wc.generate_from_frequencies(list(text))\n",
    "# store to file\n",
    "wc.to_file(path.join(d, output))\n",
    "\n",
    "# show\n",
    "plt.imshow(wc, interpolation='bilinear')\n",
    "plt.axis(\"off\")\n",
    "plt.figure()\n",
    "plt.imshow(alice_mask, cmap=plt.cm.gray, interpolation='bilinear')\n",
    "plt.axis(\"off\")\n",
    "plt.show()"
   ]
  },
  {
   "cell_type": "code",
   "execution_count": null,
   "metadata": {
    "collapsed": true
   },
   "outputs": [],
   "source": []
  }
 ],
 "metadata": {
  "kernelspec": {
   "display_name": "Python 3",
   "language": "python",
   "name": "python3"
  },
  "language_info": {
   "codemirror_mode": {
    "name": "ipython",
    "version": 3
   },
   "file_extension": ".py",
   "mimetype": "text/x-python",
   "name": "python",
   "nbconvert_exporter": "python",
   "pygments_lexer": "ipython3",
   "version": "3.6.0"
  }
 },
 "nbformat": 4,
 "nbformat_minor": 2
}
